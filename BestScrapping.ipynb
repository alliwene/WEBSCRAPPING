{
 "cells": [
  {
   "cell_type": "markdown",
   "metadata": {},
   "source": [
    "# WEB SCRAPING USING SELENIUM AND BEAUTIFULSOUP"
   ]
  },
  {
   "cell_type": "code",
   "execution_count": 1,
   "metadata": {},
   "outputs": [],
   "source": [
    "from bs4 import BeautifulSoup as bs\n",
    "import pandas as pd\n",
    "import requests"
   ]
  },
  {
   "cell_type": "code",
   "execution_count": 2,
   "metadata": {},
   "outputs": [],
   "source": [
    "from selenium import webdriver\n",
    "from selenium.webdriver.common.by import By\n",
    "from selenium.webdriver.support.ui import WebDriverWait\n",
    "from selenium.webdriver.support import expected_conditions as EC\n",
    "from selenium.common.exceptions import TimeoutException"
   ]
  },
  {
   "cell_type": "markdown",
   "metadata": {},
   "source": [
    "# Extract page using selenium"
   ]
  },
  {
   "cell_type": "code",
   "execution_count": 3,
   "metadata": {},
   "outputs": [],
   "source": [
    "driver = webdriver.Chrome(executable_path='\\chromeDriver\\chromedriver.exe')\n",
    "driver.get('https://www.konga.com/category/accessories-computing-5227')"
   ]
  },
  {
   "cell_type": "markdown",
   "metadata": {},
   "source": [
    "# Passing the extracted page to Beautifulsoup"
   ]
  },
  {
   "cell_type": "code",
   "execution_count": 4,
   "metadata": {},
   "outputs": [],
   "source": [
    "page=bs(driver.page_source)"
   ]
  },
  {
   "cell_type": "code",
   "execution_count": 40,
   "metadata": {},
   "outputs": [],
   "source": [
    "# page"
   ]
  },
  {
   "cell_type": "code",
   "execution_count": 6,
   "metadata": {},
   "outputs": [],
   "source": [
    "products_section= page.find(\"ul\", {\"class\" : \"b49ee_2pjyI _58c31_2R34y _22339_3gQb9\"})"
   ]
  },
  {
   "cell_type": "code",
   "execution_count": 7,
   "metadata": {},
   "outputs": [],
   "source": [
    "product_info=products_section.find_all(\"li\",{\"class\":\"bbe45_3oExY _22339_3gQb9\"})"
   ]
  },
  {
   "cell_type": "code",
   "execution_count": 8,
   "metadata": {},
   "outputs": [
    {
     "data": {
      "text/plain": [
       "20"
      ]
     },
     "execution_count": 8,
     "metadata": {},
     "output_type": "execute_result"
    }
   ],
   "source": [
    "# Number of item available on each page\n",
    "len(product_info)"
   ]
  },
  {
   "cell_type": "markdown",
   "metadata": {},
   "source": [
    "# Extract all the infornation needed from an instance of item"
   ]
  },
  {
   "cell_type": "code",
   "execution_count": 33,
   "metadata": {},
   "outputs": [
    {
     "data": {
      "text/plain": [
       "'27%'"
      ]
     },
     "execution_count": 33,
     "metadata": {},
     "output_type": "execute_result"
    }
   ],
   "source": [
    "product_info[2].find(\"span\",{\"class\":\"_4472a_zYlL- _6c244_q2qap\"}).text.split()[0]"
   ]
  },
  {
   "cell_type": "code",
   "execution_count": 34,
   "metadata": {},
   "outputs": [
    {
     "data": {
      "text/plain": [
       "'Zinox Z100 Gtx Notebook - Intel Cherr...'"
      ]
     },
     "execution_count": 34,
     "metadata": {},
     "output_type": "execute_result"
    }
   ],
   "source": [
    "product_info[2].find(\"div\",{\"class\":\"af885_1iPzH\"}).text"
   ]
  },
  {
   "cell_type": "code",
   "execution_count": 35,
   "metadata": {},
   "outputs": [
    {
     "data": {
      "text/plain": [
       "'₦59,500'"
      ]
     },
     "execution_count": 35,
     "metadata": {},
     "output_type": "execute_result"
    }
   ],
   "source": [
    "product_info[2].find(\"span\",{\"class\":\"d7c0f_sJAqi\"}).text.strip()"
   ]
  },
  {
   "cell_type": "code",
   "execution_count": 36,
   "metadata": {},
   "outputs": [
    {
     "data": {
      "text/plain": [
       "'ashour-fzco'"
      ]
     },
     "execution_count": 36,
     "metadata": {},
     "output_type": "execute_result"
    }
   ],
   "source": [
    "product_info[2].find(\"span\",{\"class\":\"_7cc7b_23GsY\"}).text.split()[-1]"
   ]
  },
  {
   "cell_type": "code",
   "execution_count": 17,
   "metadata": {},
   "outputs": [
    {
     "data": {
      "text/plain": [
       "'(No reviews yet)'"
      ]
     },
     "execution_count": 17,
     "metadata": {},
     "output_type": "execute_result"
    }
   ],
   "source": [
    "product_info[2].find(\"span\",{\"class\":\"eea9b_1Ma8-\"}).text"
   ]
  },
  {
   "cell_type": "code",
   "execution_count": 18,
   "metadata": {},
   "outputs": [],
   "source": [
    "product_info[2].find(\"span\",{\"class\":\"_17030_3ZCyn\"}).text"
   ]
  },
  {
   "cell_type": "markdown",
   "metadata": {},
   "source": [
    "#  Create a function to extract data on one page"
   ]
  },
  {
   "cell_type": "code",
   "execution_count": 19,
   "metadata": {},
   "outputs": [],
   "source": [
    "\n",
    "def Get_data(product_info):\n",
    "    store=[]\n",
    "    products=product_info\n",
    "    for info in products:\n",
    "        infos={}\n",
    "        try:\n",
    "            infos['off %']=info.find(\"span\",{\"class\":\"_4472a_zYlL- _6c244_q2qap\"}).text.split()[0]\n",
    "        except:\n",
    "            pass\n",
    "        infos['Description']=info.find(\"div\",{\"class\":\"af885_1iPzH\"}).text\n",
    "        infos['Price']=info.find(\"span\",{\"class\":\"d7c0f_sJAqi\"}).text.strip()\n",
    "        try:  \n",
    "            infos['number of review']=info.find(\"span\",{\"class\":\"eea9b_1Ma8-\"}).text\n",
    "            if infos['number of review']=='(No reviews yet)':\n",
    "                infos['number of review']=0\n",
    "\n",
    "        except:\n",
    "            pass\n",
    "        try:\n",
    "            infos['Pick up']-info.find(\"div\",{\"class\":\"_09e22_1ojNd\"}).text.split()[1:][0]\n",
    "        except:\n",
    "            pass\n",
    "        try:\n",
    "            infos['available at']=info.find(\"span\",{\"class\":\"_17030_3ZCyn\"}).text\n",
    "        except:\n",
    "            pass\n",
    "        store += [infos]\n",
    "    return store"
   ]
  },
  {
   "cell_type": "code",
   "execution_count": 20,
   "metadata": {
    "scrolled": true
   },
   "outputs": [
    {
     "data": {
      "text/html": [
       "<div>\n",
       "<style scoped>\n",
       "    .dataframe tbody tr th:only-of-type {\n",
       "        vertical-align: middle;\n",
       "    }\n",
       "\n",
       "    .dataframe tbody tr th {\n",
       "        vertical-align: top;\n",
       "    }\n",
       "\n",
       "    .dataframe thead th {\n",
       "        text-align: right;\n",
       "    }\n",
       "</style>\n",
       "<table border=\"1\" class=\"dataframe\">\n",
       "  <thead>\n",
       "    <tr style=\"text-align: right;\">\n",
       "      <th></th>\n",
       "      <th>off %</th>\n",
       "      <th>Description</th>\n",
       "      <th>Price</th>\n",
       "      <th>store name</th>\n",
       "      <th>number of review</th>\n",
       "      <th>available at</th>\n",
       "    </tr>\n",
       "  </thead>\n",
       "  <tbody>\n",
       "    <tr>\n",
       "      <td>0</td>\n",
       "      <td>18%</td>\n",
       "      <td>HP Notebook 15-RB006NIA AMD A4 Dual C...</td>\n",
       "      <td>₦88,500</td>\n",
       "      <td>konga</td>\n",
       "      <td>4 Reviews</td>\n",
       "      <td>Lagos,Abuja,PH</td>\n",
       "    </tr>\n",
       "    <tr>\n",
       "      <td>1</td>\n",
       "      <td>19%</td>\n",
       "      <td>HP Notebook 15 Intel Celeron N3060 - ...</td>\n",
       "      <td>₦94,990</td>\n",
       "      <td>konga</td>\n",
       "      <td>1 Review</td>\n",
       "      <td>Lagos,Abuja,PH</td>\n",
       "    </tr>\n",
       "    <tr>\n",
       "      <td>2</td>\n",
       "      <td>27%</td>\n",
       "      <td>Zinox Z100 Gtx Notebook - Intel Cherr...</td>\n",
       "      <td>₦59,500</td>\n",
       "      <td>ashour-fzco</td>\n",
       "      <td>0</td>\n",
       "      <td>Lagos</td>\n",
       "    </tr>\n",
       "    <tr>\n",
       "      <td>3</td>\n",
       "      <td>NaN</td>\n",
       "      <td>HP Stream 11 - Intel X5-e8000 - 4GB R...</td>\n",
       "      <td>₦80,000</td>\n",
       "      <td>meeso</td>\n",
       "      <td>0</td>\n",
       "      <td>NaN</td>\n",
       "    </tr>\n",
       "    <tr>\n",
       "      <td>4</td>\n",
       "      <td>19%</td>\n",
       "      <td>HP 15 Laptop - Intel Core i3 - 1TB HD...</td>\n",
       "      <td>₦157,000</td>\n",
       "      <td>inc</td>\n",
       "      <td>0</td>\n",
       "      <td>NaN</td>\n",
       "    </tr>\n",
       "    <tr>\n",
       "      <td>5</td>\n",
       "      <td>49%</td>\n",
       "      <td>Unique Rechargeable Wireless Mouse - ...</td>\n",
       "      <td>₦3,500</td>\n",
       "      <td>ventures</td>\n",
       "      <td>0</td>\n",
       "      <td>Lagos</td>\n",
       "    </tr>\n",
       "    <tr>\n",
       "      <td>6</td>\n",
       "      <td>13%</td>\n",
       "      <td>HP Notebook 15-RB006NIA AMD A4 Dual C...</td>\n",
       "      <td>₦89,500</td>\n",
       "      <td>konga</td>\n",
       "      <td>1 Review</td>\n",
       "      <td>Abuja</td>\n",
       "    </tr>\n",
       "    <tr>\n",
       "      <td>7</td>\n",
       "      <td>NaN</td>\n",
       "      <td>Laptop Stand &amp; Cooling Pad</td>\n",
       "      <td>₦3,300</td>\n",
       "      <td>tech</td>\n",
       "      <td>1 Review</td>\n",
       "      <td>NaN</td>\n",
       "    </tr>\n",
       "    <tr>\n",
       "      <td>8</td>\n",
       "      <td>20%</td>\n",
       "      <td>HP 15 Laptop- Intel Core i3- 8GB RAM-...</td>\n",
       "      <td>₦159,000</td>\n",
       "      <td>digitalarena</td>\n",
       "      <td>0</td>\n",
       "      <td>NaN</td>\n",
       "    </tr>\n",
       "    <tr>\n",
       "      <td>9</td>\n",
       "      <td>NaN</td>\n",
       "      <td>HP Pavilion X360-11.6\"-intel Pentium-...</td>\n",
       "      <td>₦180,000</td>\n",
       "      <td>links</td>\n",
       "      <td>0</td>\n",
       "      <td>NaN</td>\n",
       "    </tr>\n",
       "    <tr>\n",
       "      <td>10</td>\n",
       "      <td>NaN</td>\n",
       "      <td>HP 15 - Intel Core I3 - 15.6\" - 1TB H...</td>\n",
       "      <td>₦153,000</td>\n",
       "      <td>ltd</td>\n",
       "      <td>0</td>\n",
       "      <td>NaN</td>\n",
       "    </tr>\n",
       "    <tr>\n",
       "      <td>11</td>\n",
       "      <td>19%</td>\n",
       "      <td>HP Notebook 15-dy1751ms, 10th Gen Int...</td>\n",
       "      <td>₦267,000</td>\n",
       "      <td>tech</td>\n",
       "      <td>0</td>\n",
       "      <td>NaN</td>\n",
       "    </tr>\n",
       "    <tr>\n",
       "      <td>12</td>\n",
       "      <td>23%</td>\n",
       "      <td>HP Notebook 15 Intel Celeron - 4GB RA...</td>\n",
       "      <td>₦94,990</td>\n",
       "      <td>konga</td>\n",
       "      <td>1 Review</td>\n",
       "      <td>Lagos</td>\n",
       "    </tr>\n",
       "    <tr>\n",
       "      <td>13</td>\n",
       "      <td>NaN</td>\n",
       "      <td>OEM Universal Laptop/Notebook Charger...</td>\n",
       "      <td>₦3,100</td>\n",
       "      <td>labiz</td>\n",
       "      <td>0</td>\n",
       "      <td>NaN</td>\n",
       "    </tr>\n",
       "    <tr>\n",
       "      <td>14</td>\n",
       "      <td>53%</td>\n",
       "      <td>HP 2.4GHZ  Slim Wireless Mouse - Blac...</td>\n",
       "      <td>₦1,650</td>\n",
       "      <td>synergy2020</td>\n",
       "      <td>0</td>\n",
       "      <td>NaN</td>\n",
       "    </tr>\n",
       "    <tr>\n",
       "      <td>15</td>\n",
       "      <td>18%</td>\n",
       "      <td>HP Pavilion 15 Intel Core i5 - Touchs...</td>\n",
       "      <td>₦295,000</td>\n",
       "      <td>ojaonline2</td>\n",
       "      <td>0</td>\n",
       "      <td>NaN</td>\n",
       "    </tr>\n",
       "    <tr>\n",
       "      <td>16</td>\n",
       "      <td>NaN</td>\n",
       "      <td>HP 26a Laserjet Toner Cartridge</td>\n",
       "      <td>₦9,000</td>\n",
       "      <td>doublebigman</td>\n",
       "      <td>0</td>\n",
       "      <td>NaN</td>\n",
       "    </tr>\n",
       "    <tr>\n",
       "      <td>17</td>\n",
       "      <td>NaN</td>\n",
       "      <td>HP Pavilion 11 x360 Touch Screen  - I...</td>\n",
       "      <td>₦168,000</td>\n",
       "      <td>ltd</td>\n",
       "      <td>0</td>\n",
       "      <td>NaN</td>\n",
       "    </tr>\n",
       "    <tr>\n",
       "      <td>18</td>\n",
       "      <td>19%</td>\n",
       "      <td>HP 15 Laptop - Intel Core i3 - 1TB HD...</td>\n",
       "      <td>₦159,000</td>\n",
       "      <td>gadgets</td>\n",
       "      <td>0</td>\n",
       "      <td>NaN</td>\n",
       "    </tr>\n",
       "    <tr>\n",
       "      <td>19</td>\n",
       "      <td>31%</td>\n",
       "      <td>Ergostand Laptop Notebook Stand And C...</td>\n",
       "      <td>₦3,100</td>\n",
       "      <td>synergy2020</td>\n",
       "      <td>0</td>\n",
       "      <td>NaN</td>\n",
       "    </tr>\n",
       "  </tbody>\n",
       "</table>\n",
       "</div>"
      ],
      "text/plain": [
       "   off %                               Description     Price    store name  \\\n",
       "0    18%  HP Notebook 15-RB006NIA AMD A4 Dual C...   ₦88,500         konga   \n",
       "1    19%  HP Notebook 15 Intel Celeron N3060 - ...   ₦94,990         konga   \n",
       "2    27%  Zinox Z100 Gtx Notebook - Intel Cherr...   ₦59,500   ashour-fzco   \n",
       "3    NaN  HP Stream 11 - Intel X5-e8000 - 4GB R...   ₦80,000         meeso   \n",
       "4    19%  HP 15 Laptop - Intel Core i3 - 1TB HD...  ₦157,000           inc   \n",
       "5    49%  Unique Rechargeable Wireless Mouse - ...    ₦3,500      ventures   \n",
       "6    13%  HP Notebook 15-RB006NIA AMD A4 Dual C...   ₦89,500         konga   \n",
       "7    NaN                Laptop Stand & Cooling Pad    ₦3,300          tech   \n",
       "8    20%  HP 15 Laptop- Intel Core i3- 8GB RAM-...  ₦159,000  digitalarena   \n",
       "9    NaN  HP Pavilion X360-11.6\"-intel Pentium-...  ₦180,000         links   \n",
       "10   NaN  HP 15 - Intel Core I3 - 15.6\" - 1TB H...  ₦153,000           ltd   \n",
       "11   19%  HP Notebook 15-dy1751ms, 10th Gen Int...  ₦267,000          tech   \n",
       "12   23%  HP Notebook 15 Intel Celeron - 4GB RA...   ₦94,990         konga   \n",
       "13   NaN  OEM Universal Laptop/Notebook Charger...    ₦3,100         labiz   \n",
       "14   53%  HP 2.4GHZ  Slim Wireless Mouse - Blac...    ₦1,650   synergy2020   \n",
       "15   18%  HP Pavilion 15 Intel Core i5 - Touchs...  ₦295,000    ojaonline2   \n",
       "16   NaN           HP 26a Laserjet Toner Cartridge    ₦9,000  doublebigman   \n",
       "17   NaN  HP Pavilion 11 x360 Touch Screen  - I...  ₦168,000           ltd   \n",
       "18   19%  HP 15 Laptop - Intel Core i3 - 1TB HD...  ₦159,000       gadgets   \n",
       "19   31%  Ergostand Laptop Notebook Stand And C...    ₦3,100   synergy2020   \n",
       "\n",
       "   number of review    available at  \n",
       "0         4 Reviews  Lagos,Abuja,PH  \n",
       "1          1 Review  Lagos,Abuja,PH  \n",
       "2                 0           Lagos  \n",
       "3                 0             NaN  \n",
       "4                 0             NaN  \n",
       "5                 0           Lagos  \n",
       "6          1 Review           Abuja  \n",
       "7          1 Review             NaN  \n",
       "8                 0             NaN  \n",
       "9                 0             NaN  \n",
       "10                0             NaN  \n",
       "11                0             NaN  \n",
       "12         1 Review           Lagos  \n",
       "13                0             NaN  \n",
       "14                0             NaN  \n",
       "15                0             NaN  \n",
       "16                0             NaN  \n",
       "17                0             NaN  \n",
       "18                0             NaN  \n",
       "19                0             NaN  "
      ]
     },
     "execution_count": 20,
     "metadata": {},
     "output_type": "execute_result"
    }
   ],
   "source": [
    "data1=Get_data(product_info)\n",
    "pd.DataFrame((data1))"
   ]
  },
  {
   "cell_type": "code",
   "execution_count": 21,
   "metadata": {},
   "outputs": [],
   "source": [
    "# get the first and last page number from a page\n",
    "page1=int(page.find(\"ul\",{\"class\":\"_6d32f_2_vdu\"}).text[0])\n",
    "last_page=int(page.find(\"ul\",{\"class\":\"_6d32f_2_vdu\"}).text[-2:])"
   ]
  },
  {
   "cell_type": "markdown",
   "metadata": {},
   "source": [
    "# Data extraction of a particular section on all pages available"
   ]
  },
  {
   "cell_type": "code",
   "execution_count": 23,
   "metadata": {},
   "outputs": [],
   "source": [
    "links=[f\"https://www.konga.com/category/accessories-computing-5227?page={i}\" for i in range(page1,last_page+1,1)]\n",
    "\n",
    "def All_page_data(page_url):\n",
    "    \n",
    "    links=[f\"{page_url}?page={i}\" for i in range(page1,last_page+1,1)]\n",
    "    data_store=[]\n",
    "    for url in links:\n",
    "        driver.get(url)\n",
    "        page=bs(driver.page_source)\n",
    "        products_section= page.find(\"ul\", {\"class\" : \"b49ee_2pjyI _58c31_2R34y _22339_3gQb9\"})\n",
    "        product_info=products_section.find_all(\"li\",{\"class\":\"bbe45_3oExY _22339_3gQb9\"})\n",
    "        data = get_data(product_info)\n",
    "        data_store+=data\n",
    "    return data_store"
   ]
  },
  {
   "cell_type": "code",
   "execution_count": 24,
   "metadata": {},
   "outputs": [],
   "source": [
    "page1_data=All_page_data('https://www.konga.com/category/accessories-computing-5227?page=1')"
   ]
  },
  {
   "cell_type": "code",
   "execution_count": 25,
   "metadata": {},
   "outputs": [
    {
     "data": {
      "text/html": [
       "<div>\n",
       "<style scoped>\n",
       "    .dataframe tbody tr th:only-of-type {\n",
       "        vertical-align: middle;\n",
       "    }\n",
       "\n",
       "    .dataframe tbody tr th {\n",
       "        vertical-align: top;\n",
       "    }\n",
       "\n",
       "    .dataframe thead th {\n",
       "        text-align: right;\n",
       "    }\n",
       "</style>\n",
       "<table border=\"1\" class=\"dataframe\">\n",
       "  <thead>\n",
       "    <tr style=\"text-align: right;\">\n",
       "      <th></th>\n",
       "      <th>off %</th>\n",
       "      <th>Description</th>\n",
       "      <th>Price</th>\n",
       "      <th>store name</th>\n",
       "      <th>number of review</th>\n",
       "      <th>available at</th>\n",
       "    </tr>\n",
       "  </thead>\n",
       "  <tbody>\n",
       "    <tr>\n",
       "      <td>0</td>\n",
       "      <td>18%</td>\n",
       "      <td>HP Notebook 15-RB006NIA AMD A4 Dual C...</td>\n",
       "      <td>₦88,500</td>\n",
       "      <td>konga</td>\n",
       "      <td>4 Reviews</td>\n",
       "      <td>Lagos,Abuja,PH</td>\n",
       "    </tr>\n",
       "    <tr>\n",
       "      <td>1</td>\n",
       "      <td>19%</td>\n",
       "      <td>HP Notebook 15 Intel Celeron N3060 - ...</td>\n",
       "      <td>₦94,990</td>\n",
       "      <td>konga</td>\n",
       "      <td>1 Review</td>\n",
       "      <td>Lagos,Abuja,PH</td>\n",
       "    </tr>\n",
       "    <tr>\n",
       "      <td>2</td>\n",
       "      <td>27%</td>\n",
       "      <td>Zinox Z100 Gtx Notebook - Intel Cherr...</td>\n",
       "      <td>₦59,500</td>\n",
       "      <td>ashour-fzco</td>\n",
       "      <td>0</td>\n",
       "      <td>Lagos</td>\n",
       "    </tr>\n",
       "    <tr>\n",
       "      <td>3</td>\n",
       "      <td>NaN</td>\n",
       "      <td>HP Stream 11 - Intel X5-e8000 - 4GB R...</td>\n",
       "      <td>₦80,000</td>\n",
       "      <td>meeso</td>\n",
       "      <td>0</td>\n",
       "      <td>NaN</td>\n",
       "    </tr>\n",
       "    <tr>\n",
       "      <td>4</td>\n",
       "      <td>19%</td>\n",
       "      <td>HP 15 Laptop - Intel Core i3 - 1TB HD...</td>\n",
       "      <td>₦157,000</td>\n",
       "      <td>inc</td>\n",
       "      <td>0</td>\n",
       "      <td>NaN</td>\n",
       "    </tr>\n",
       "    <tr>\n",
       "      <td>...</td>\n",
       "      <td>...</td>\n",
       "      <td>...</td>\n",
       "      <td>...</td>\n",
       "      <td>...</td>\n",
       "      <td>...</td>\n",
       "      <td>...</td>\n",
       "    </tr>\n",
       "    <tr>\n",
       "      <td>995</td>\n",
       "      <td>18%</td>\n",
       "      <td>HP Pavilion 15 Intel Core i5 - Touchs...</td>\n",
       "      <td>₦295,000</td>\n",
       "      <td>ojaonline2</td>\n",
       "      <td>0</td>\n",
       "      <td>NaN</td>\n",
       "    </tr>\n",
       "    <tr>\n",
       "      <td>996</td>\n",
       "      <td>NaN</td>\n",
       "      <td>HP 26a Laserjet Toner Cartridge</td>\n",
       "      <td>₦9,000</td>\n",
       "      <td>doublebigman</td>\n",
       "      <td>0</td>\n",
       "      <td>NaN</td>\n",
       "    </tr>\n",
       "    <tr>\n",
       "      <td>997</td>\n",
       "      <td>NaN</td>\n",
       "      <td>HP Pavilion 11 x360 Touch Screen  - I...</td>\n",
       "      <td>₦168,000</td>\n",
       "      <td>ltd</td>\n",
       "      <td>0</td>\n",
       "      <td>NaN</td>\n",
       "    </tr>\n",
       "    <tr>\n",
       "      <td>998</td>\n",
       "      <td>19%</td>\n",
       "      <td>HP 15 Laptop - Intel Core i3 - 1TB HD...</td>\n",
       "      <td>₦159,000</td>\n",
       "      <td>gadgets</td>\n",
       "      <td>0</td>\n",
       "      <td>NaN</td>\n",
       "    </tr>\n",
       "    <tr>\n",
       "      <td>999</td>\n",
       "      <td>31%</td>\n",
       "      <td>Ergostand Laptop Notebook Stand And C...</td>\n",
       "      <td>₦3,100</td>\n",
       "      <td>synergy2020</td>\n",
       "      <td>0</td>\n",
       "      <td>NaN</td>\n",
       "    </tr>\n",
       "  </tbody>\n",
       "</table>\n",
       "<p>1000 rows × 6 columns</p>\n",
       "</div>"
      ],
      "text/plain": [
       "    off %                               Description     Price    store name  \\\n",
       "0     18%  HP Notebook 15-RB006NIA AMD A4 Dual C...   ₦88,500         konga   \n",
       "1     19%  HP Notebook 15 Intel Celeron N3060 - ...   ₦94,990         konga   \n",
       "2     27%  Zinox Z100 Gtx Notebook - Intel Cherr...   ₦59,500   ashour-fzco   \n",
       "3     NaN  HP Stream 11 - Intel X5-e8000 - 4GB R...   ₦80,000         meeso   \n",
       "4     19%  HP 15 Laptop - Intel Core i3 - 1TB HD...  ₦157,000           inc   \n",
       "..    ...                                       ...       ...           ...   \n",
       "995   18%  HP Pavilion 15 Intel Core i5 - Touchs...  ₦295,000    ojaonline2   \n",
       "996   NaN           HP 26a Laserjet Toner Cartridge    ₦9,000  doublebigman   \n",
       "997   NaN  HP Pavilion 11 x360 Touch Screen  - I...  ₦168,000           ltd   \n",
       "998   19%  HP 15 Laptop - Intel Core i3 - 1TB HD...  ₦159,000       gadgets   \n",
       "999   31%  Ergostand Laptop Notebook Stand And C...    ₦3,100   synergy2020   \n",
       "\n",
       "    number of review    available at  \n",
       "0          4 Reviews  Lagos,Abuja,PH  \n",
       "1           1 Review  Lagos,Abuja,PH  \n",
       "2                  0           Lagos  \n",
       "3                  0             NaN  \n",
       "4                  0             NaN  \n",
       "..               ...             ...  \n",
       "995                0             NaN  \n",
       "996                0             NaN  \n",
       "997                0             NaN  \n",
       "998                0             NaN  \n",
       "999                0             NaN  \n",
       "\n",
       "[1000 rows x 6 columns]"
      ]
     },
     "execution_count": 25,
     "metadata": {},
     "output_type": "execute_result"
    }
   ],
   "source": [
    "pd.DataFrame(page1_data)"
   ]
  },
  {
   "cell_type": "code",
   "execution_count": 26,
   "metadata": {},
   "outputs": [],
   "source": [
    "# https://www.konga.com/category/accessories-computing-5227\n",
    "# https://www.konga.com/category/phones-tablets-5294\n",
    "# https://www.konga.com/category/electronics-5261\n",
    "# https://www.konga.com/category/konga-fashion-1259\n",
    "# https://www.konga.com/category/home-kitchen-602\n",
    "# https://www.konga.com/category/baby-kids-toys-8\n",
    "# https://www.konga.com/category/other-categories-5971"
   ]
  },
  {
   "cell_type": "markdown",
   "metadata": {},
   "source": [
    "# Get each page section link"
   ]
  },
  {
   "cell_type": "code",
   "execution_count": 27,
   "metadata": {},
   "outputs": [],
   "source": [
    "div_links=page.find(\"div\",{\"class\":\"_0d327_3ftRW\"})"
   ]
  },
  {
   "cell_type": "code",
   "execution_count": 28,
   "metadata": {},
   "outputs": [],
   "source": [
    "qq=div_links.find_all('a')[1:]"
   ]
  },
  {
   "cell_type": "code",
   "execution_count": 29,
   "metadata": {},
   "outputs": [
    {
     "data": {
      "text/plain": [
       "'accessories computing'"
      ]
     },
     "execution_count": 29,
     "metadata": {},
     "output_type": "execute_result"
    }
   ],
   "source": [
    "\" \".join(qq[0]['href'].split('/')[-1].split('-')[:-1])"
   ]
  },
  {
   "cell_type": "code",
   "execution_count": 30,
   "metadata": {},
   "outputs": [
    {
     "data": {
      "text/plain": [
       "['https://www.konga.com/category/accessories-computing-5227',\n",
       " 'https://www.konga.com/category/phones-tablets-5294',\n",
       " 'https://www.konga.com/category/electronics-5261',\n",
       " 'https://www.konga.com/category/konga-fashion-1259',\n",
       " 'https://www.konga.com/category/home-kitchen-602',\n",
       " 'https://www.konga.com/category/baby-kids-toys-8',\n",
       " 'https://www.konga.com/category/other-categories-5971']"
      ]
     },
     "execution_count": 30,
     "metadata": {},
     "output_type": "execute_result"
    }
   ],
   "source": [
    "section_url=[f\"https://www.konga.com/category/{qq[i]['href'].split('/')[-1]}\" for i in range(0,len(qq),1)]\n",
    "section_url"
   ]
  },
  {
   "cell_type": "markdown",
   "metadata": {},
   "source": [
    "# Get the data of all section through all the pages available"
   ]
  },
  {
   "cell_type": "code",
   "execution_count": 31,
   "metadata": {},
   "outputs": [
    {
     "name": "stdout",
     "output_type": "stream",
     "text": [
      "\n",
      " RUNNING SECTION : accessories computing\n",
      "\n",
      " RUNNING SECTION : phones tablets\n",
      "\n",
      " RUNNING SECTION : electronics\n",
      "\n",
      " RUNNING SECTION : konga fashion\n",
      "\n",
      " RUNNING SECTION : home kitchen\n",
      "\n",
      " RUNNING SECTION : baby kids toys\n",
      "\n",
      " RUNNING SECTION : other categories\n"
     ]
    }
   ],
   "source": [
    "section_urls=[f\"https://www.konga.com/category/{qq[i]['href'].split('/')[-1]}\" for i in range(0,len(qq),1)]\n",
    "\n",
    "for url in section_urls:\n",
    "    section_data=[]\n",
    "    data=all_page_data(url)\n",
    "    section_data +=[data]\n",
    "    section_name=\" \".join(url.split('/')[-1].split('-')[:-1])\n",
    "    print(\"\\n RUNNING SECTION : \"+section_name)\n",
    "              \n",
    "#   Store each section data into a csv file with the specific section name\n",
    "    pd.concat([ pd.DataFrame(j) for j in section_data ]).to_csv( f\"{section_name}.csv\" ,index=False)    "
   ]
  },
  {
   "cell_type": "code",
   "execution_count": 39,
   "metadata": {},
   "outputs": [
    {
     "data": {
      "text/html": [
       "<div>\n",
       "<style scoped>\n",
       "    .dataframe tbody tr th:only-of-type {\n",
       "        vertical-align: middle;\n",
       "    }\n",
       "\n",
       "    .dataframe tbody tr th {\n",
       "        vertical-align: top;\n",
       "    }\n",
       "\n",
       "    .dataframe thead th {\n",
       "        text-align: right;\n",
       "    }\n",
       "</style>\n",
       "<table border=\"1\" class=\"dataframe\">\n",
       "  <thead>\n",
       "    <tr style=\"text-align: right;\">\n",
       "      <th></th>\n",
       "      <th>off %</th>\n",
       "      <th>Description</th>\n",
       "      <th>Price</th>\n",
       "      <th>store name</th>\n",
       "      <th>number of review</th>\n",
       "      <th>available at</th>\n",
       "    </tr>\n",
       "  </thead>\n",
       "  <tbody>\n",
       "    <tr>\n",
       "      <td>0</td>\n",
       "      <td>10%</td>\n",
       "      <td>iTec 32\" Hd Led With Free Wall Bracke...</td>\n",
       "      <td>₦37,690</td>\n",
       "      <td>ashour-fzco</td>\n",
       "      <td>0</td>\n",
       "      <td>Lagos,Abuja</td>\n",
       "    </tr>\n",
       "    <tr>\n",
       "      <td>1</td>\n",
       "      <td>6%</td>\n",
       "      <td>iTec 32\" HD LED with Free Wall Bracke...</td>\n",
       "      <td>₦39,500</td>\n",
       "      <td>ashour-fzco</td>\n",
       "      <td>0</td>\n",
       "      <td>Lagos</td>\n",
       "    </tr>\n",
       "    <tr>\n",
       "      <td>2</td>\n",
       "      <td>10%</td>\n",
       "      <td>Video Camera Camcorder Tripod with Ph...</td>\n",
       "      <td>₦4,500</td>\n",
       "      <td>it</td>\n",
       "      <td>8 Reviews</td>\n",
       "      <td>NaN</td>\n",
       "    </tr>\n",
       "    <tr>\n",
       "      <td>3</td>\n",
       "      <td>50%</td>\n",
       "      <td>3.5mm Mini Studio Hands Free Micropho...</td>\n",
       "      <td>₦2,000</td>\n",
       "      <td>it</td>\n",
       "      <td>21 Reviews</td>\n",
       "      <td>NaN</td>\n",
       "    </tr>\n",
       "    <tr>\n",
       "      <td>4</td>\n",
       "      <td>22%</td>\n",
       "      <td>Nsonic 24-inch Full HD LED TV + Free ...</td>\n",
       "      <td>₦35,000</td>\n",
       "      <td>world</td>\n",
       "      <td>0</td>\n",
       "      <td>NaN</td>\n",
       "    </tr>\n",
       "    <tr>\n",
       "      <td>5</td>\n",
       "      <td>33%</td>\n",
       "      <td>Samsung 32\" High Definition Flat TV</td>\n",
       "      <td>₦60,000</td>\n",
       "      <td>uchegold76</td>\n",
       "      <td>0</td>\n",
       "      <td>NaN</td>\n",
       "    </tr>\n",
       "    <tr>\n",
       "      <td>6</td>\n",
       "      <td>60%</td>\n",
       "      <td>Imagine 3 Pole 3.5mm Mini Studio Hand...</td>\n",
       "      <td>₦2,000</td>\n",
       "      <td>it</td>\n",
       "      <td>0</td>\n",
       "      <td>NaN</td>\n",
       "    </tr>\n",
       "    <tr>\n",
       "      <td>7</td>\n",
       "      <td>44%</td>\n",
       "      <td>Lightweight Smartphone And Video Came...</td>\n",
       "      <td>₦4,500</td>\n",
       "      <td>resources</td>\n",
       "      <td>5 Reviews</td>\n",
       "      <td>NaN</td>\n",
       "    </tr>\n",
       "    <tr>\n",
       "      <td>8</td>\n",
       "      <td>13%</td>\n",
       "      <td>7ft 2m Photo Studio Video Camera Ligh...</td>\n",
       "      <td>₦7,000</td>\n",
       "      <td>it</td>\n",
       "      <td>1 Review</td>\n",
       "      <td>NaN</td>\n",
       "    </tr>\n",
       "    <tr>\n",
       "      <td>9</td>\n",
       "      <td>50%</td>\n",
       "      <td>Imagine 3 Pole 3.5mm Mini Studio Hand...</td>\n",
       "      <td>₦1,500</td>\n",
       "      <td>it</td>\n",
       "      <td>0</td>\n",
       "      <td>NaN</td>\n",
       "    </tr>\n",
       "    <tr>\n",
       "      <td>10</td>\n",
       "      <td>17%</td>\n",
       "      <td>iTec 42\" Smart Hd With Free Wall Brac...</td>\n",
       "      <td>₦83,275</td>\n",
       "      <td>ashour-fzco</td>\n",
       "      <td>0</td>\n",
       "      <td>Lagos</td>\n",
       "    </tr>\n",
       "    <tr>\n",
       "      <td>11</td>\n",
       "      <td>23%</td>\n",
       "      <td>Polystar Portable Radio Dvd System Pv...</td>\n",
       "      <td>₦15,420</td>\n",
       "      <td>michi</td>\n",
       "      <td>0</td>\n",
       "      <td>Lagos</td>\n",
       "    </tr>\n",
       "    <tr>\n",
       "      <td>12</td>\n",
       "      <td>NaN</td>\n",
       "      <td>Amani 32\" Full HD LED TV</td>\n",
       "      <td>₦38,500</td>\n",
       "      <td>electronic</td>\n",
       "      <td>0</td>\n",
       "      <td>NaN</td>\n",
       "    </tr>\n",
       "    <tr>\n",
       "      <td>13</td>\n",
       "      <td>25%</td>\n",
       "      <td>iTec 40\" FHD LED Television</td>\n",
       "      <td>₦60,000</td>\n",
       "      <td>store</td>\n",
       "      <td>0</td>\n",
       "      <td>NaN</td>\n",
       "    </tr>\n",
       "    <tr>\n",
       "      <td>14</td>\n",
       "      <td>50%</td>\n",
       "      <td>Imagine 3.5mm Audio Stereo Splitter 4...</td>\n",
       "      <td>₦1,500</td>\n",
       "      <td>it</td>\n",
       "      <td>0</td>\n",
       "      <td>NaN</td>\n",
       "    </tr>\n",
       "    <tr>\n",
       "      <td>15</td>\n",
       "      <td>9%</td>\n",
       "      <td>iTec 50\" Uhd Smart Led Television + F...</td>\n",
       "      <td>₦124,155</td>\n",
       "      <td>ashour-fzco</td>\n",
       "      <td>0</td>\n",
       "      <td>Lagos</td>\n",
       "    </tr>\n",
       "    <tr>\n",
       "      <td>16</td>\n",
       "      <td>14%</td>\n",
       "      <td>Bluetooth Earphones - Black</td>\n",
       "      <td>₦2,999</td>\n",
       "      <td>sedge</td>\n",
       "      <td>0</td>\n",
       "      <td>NaN</td>\n",
       "    </tr>\n",
       "    <tr>\n",
       "      <td>17</td>\n",
       "      <td>13%</td>\n",
       "      <td>Djack Powerful Bluetooth Home Theatre...</td>\n",
       "      <td>₦16,500</td>\n",
       "      <td>stores</td>\n",
       "      <td>0</td>\n",
       "      <td>PH</td>\n",
       "    </tr>\n",
       "    <tr>\n",
       "      <td>18</td>\n",
       "      <td>NaN</td>\n",
       "      <td>Hisense 49-Inch Smart Full HD LED TV ...</td>\n",
       "      <td>₦145,000</td>\n",
       "      <td>store</td>\n",
       "      <td>0</td>\n",
       "      <td>NaN</td>\n",
       "    </tr>\n",
       "    <tr>\n",
       "      <td>19</td>\n",
       "      <td>27%</td>\n",
       "      <td>iTec 43' HD LED Tv + Free Wall Bracke...</td>\n",
       "      <td>₦79,730</td>\n",
       "      <td>konga</td>\n",
       "      <td>0</td>\n",
       "      <td>Lagos</td>\n",
       "    </tr>\n",
       "  </tbody>\n",
       "</table>\n",
       "</div>"
      ],
      "text/plain": [
       "   off %                               Description     Price   store name  \\\n",
       "0    10%  iTec 32\" Hd Led With Free Wall Bracke...   ₦37,690  ashour-fzco   \n",
       "1     6%  iTec 32\" HD LED with Free Wall Bracke...   ₦39,500  ashour-fzco   \n",
       "2    10%  Video Camera Camcorder Tripod with Ph...    ₦4,500           it   \n",
       "3    50%  3.5mm Mini Studio Hands Free Micropho...    ₦2,000           it   \n",
       "4    22%  Nsonic 24-inch Full HD LED TV + Free ...   ₦35,000        world   \n",
       "5    33%       Samsung 32\" High Definition Flat TV   ₦60,000   uchegold76   \n",
       "6    60%  Imagine 3 Pole 3.5mm Mini Studio Hand...    ₦2,000           it   \n",
       "7    44%  Lightweight Smartphone And Video Came...    ₦4,500    resources   \n",
       "8    13%  7ft 2m Photo Studio Video Camera Ligh...    ₦7,000           it   \n",
       "9    50%  Imagine 3 Pole 3.5mm Mini Studio Hand...    ₦1,500           it   \n",
       "10   17%  iTec 42\" Smart Hd With Free Wall Brac...   ₦83,275  ashour-fzco   \n",
       "11   23%  Polystar Portable Radio Dvd System Pv...   ₦15,420        michi   \n",
       "12   NaN                  Amani 32\" Full HD LED TV   ₦38,500   electronic   \n",
       "13   25%               iTec 40\" FHD LED Television   ₦60,000        store   \n",
       "14   50%  Imagine 3.5mm Audio Stereo Splitter 4...    ₦1,500           it   \n",
       "15    9%  iTec 50\" Uhd Smart Led Television + F...  ₦124,155  ashour-fzco   \n",
       "16   14%              Bluetooth Earphones - Black     ₦2,999        sedge   \n",
       "17   13%  Djack Powerful Bluetooth Home Theatre...   ₦16,500       stores   \n",
       "18   NaN  Hisense 49-Inch Smart Full HD LED TV ...  ₦145,000        store   \n",
       "19   27%  iTec 43' HD LED Tv + Free Wall Bracke...   ₦79,730        konga   \n",
       "\n",
       "   number of review available at  \n",
       "0                 0  Lagos,Abuja  \n",
       "1                 0        Lagos  \n",
       "2         8 Reviews          NaN  \n",
       "3        21 Reviews          NaN  \n",
       "4                 0          NaN  \n",
       "5                 0          NaN  \n",
       "6                 0          NaN  \n",
       "7         5 Reviews          NaN  \n",
       "8          1 Review          NaN  \n",
       "9                 0          NaN  \n",
       "10                0        Lagos  \n",
       "11                0        Lagos  \n",
       "12                0          NaN  \n",
       "13                0          NaN  \n",
       "14                0          NaN  \n",
       "15                0        Lagos  \n",
       "16                0          NaN  \n",
       "17                0           PH  \n",
       "18                0          NaN  \n",
       "19                0        Lagos  "
      ]
     },
     "execution_count": 39,
     "metadata": {},
     "output_type": "execute_result"
    }
   ],
   "source": [
    "# View one page section data\n",
    "pd.read_csv(\"electronics.csv\").head(20)"
   ]
  },
  {
   "cell_type": "code",
   "execution_count": 32,
   "metadata": {},
   "outputs": [],
   "source": [
    "driver.quit()"
   ]
  }
 ],
 "metadata": {
  "kernelspec": {
   "display_name": "Python 3",
   "language": "python",
   "name": "python3"
  },
  "language_info": {
   "codemirror_mode": {
    "name": "ipython",
    "version": 3
   },
   "file_extension": ".py",
   "mimetype": "text/x-python",
   "name": "python",
   "nbconvert_exporter": "python",
   "pygments_lexer": "ipython3",
   "version": "3.7.4"
  }
 },
 "nbformat": 4,
 "nbformat_minor": 2
}
